{
 "cells": [
  {
   "cell_type": "code",
   "execution_count": 2,
   "id": "initial_id",
   "metadata": {
    "collapsed": true,
    "ExecuteTime": {
     "end_time": "2024-08-30T23:30:30.872956500Z",
     "start_time": "2024-08-30T23:30:28.840612700Z"
    }
   },
   "outputs": [],
   "source": [
    "import pandas as pd"
   ]
  },
  {
   "cell_type": "code",
   "execution_count": 42,
   "outputs": [],
   "source": [
    "data = pd.read_csv('soft-attributes.csv')"
   ],
   "metadata": {
    "collapsed": false,
    "ExecuteTime": {
     "end_time": "2024-08-31T01:54:49.673039100Z",
     "start_time": "2024-08-31T01:54:49.628793700Z"
    }
   },
   "id": "d25a5302263190a0"
  },
  {
   "cell_type": "code",
   "execution_count": 4,
   "outputs": [
    {
     "data": {
      "text/plain": "      rater_id                              reference_title soft_attribute  \\\n0            1                          Forrest Gump (1994)  action filled   \n1            1              The Silence of the Lambs (1991)       animated   \n2            1                         Jurassic Park (1993)          artsy   \n3            1                       The Incredibles (2004)     believable   \n4            1                       The Incredibles (2004)     big budget   \n...        ...                                          ...            ...   \n5986       100                        Batman Forever (1995)        typical   \n5987       100  Indiana Jones and the Temple of Doom (1984)   unique story   \n5988       100                            Armageddon (1998)    unrealistic   \n5989       100                      X2: X-Men United (2003)        violent   \n5990       100             Men in Black (a.k.a. MIB) (1997)  well directed   \n\n                                              less_than  \\\n0                                                   NaN   \n1                                                   NaN   \n2     [\"Monsters, Inc. (2001)\",\"Home Alone (1990)\",\"...   \n3     [\"Monsters, Inc. (2001)\",\"Harry Potter and the...   \n4     [\"The Sixth Sense (1999)\",\"Snow White and the ...   \n...                                                 ...   \n5986  [\"Jaws (1975)\",\"Honey, I Shrunk the Kids (1989...   \n5987  [\"Charlie's Angels (2000)\",\"The Dark Knight (2...   \n5988          [\"Titanic (1997)\",\"Happy Gilmore (1996)\"]   \n5989  [\"Addams Family Values (1993)\",\"Apollo 13 (199...   \n5990  [\"Scream (1996)\",\"Sin City (2005)\",\"Finding Ne...   \n\n                                               about_as  \\\n0     [\"Good Will Hunting (1997)\",\"Ghost (1990)\",\"Sn...   \n1     [\"Good Will Hunting (1997)\",\"Pulp Fiction (199...   \n2             [\"The Sixth Sense (1999)\",\"Alien (1979)\"]   \n3                                                   NaN   \n4     [\"Chicken Run (2000)\",\"Schindler's List (1993)...   \n...                                                 ...   \n5986  [\"The Terminator (1984)\",\"Kill Bill: Vol. 2 (2...   \n5987  [\"Armageddon (1998)\",\"Apollo 13 (1995)\",\"Catch...   \n5988  [\"Raiders of the Lost Ark (Indiana Jones and t...   \n5989  [\"The Bourne Identity (2002)\",\"Mission: Imposs...   \n5990  [\"The Dark Knight (2008)\",\"The Lord of the Rin...   \n\n                                              more_than  \n0     [\"Crouching Tiger, Hidden Dragon (Wo hu cang l...  \n1     [\"Alien (1979)\",\"E.T. the Extra-Terrestrial (1...  \n2     [\"The Lion King (1994)\",\"Pulp Fiction (1994)\",...  \n3     [\"The Silence of the Lambs (1991)\",\"Crouching ...  \n4     [\"Harry Potter and the Sorcerer's Stone (a.k.a...  \n...                                                 ...  \n5986  [\"Scream (1996)\",\"The Lost World: Jurassic Par...  \n5987  [\"Harry Potter and the Chamber of Secrets (200...  \n5988  [\"Batman (1989)\",\"The Dark Knight (2008)\",\"Men...  \n5989                                                NaN  \n5990  [\"Shrek 2 (2004)\",\"Beverly Hills Cop III (1994...  \n\n[5991 rows x 6 columns]",
      "text/html": "<div>\n<style scoped>\n    .dataframe tbody tr th:only-of-type {\n        vertical-align: middle;\n    }\n\n    .dataframe tbody tr th {\n        vertical-align: top;\n    }\n\n    .dataframe thead th {\n        text-align: right;\n    }\n</style>\n<table border=\"1\" class=\"dataframe\">\n  <thead>\n    <tr style=\"text-align: right;\">\n      <th></th>\n      <th>rater_id</th>\n      <th>reference_title</th>\n      <th>soft_attribute</th>\n      <th>less_than</th>\n      <th>about_as</th>\n      <th>more_than</th>\n    </tr>\n  </thead>\n  <tbody>\n    <tr>\n      <th>0</th>\n      <td>1</td>\n      <td>Forrest Gump (1994)</td>\n      <td>action filled</td>\n      <td>NaN</td>\n      <td>[\"Good Will Hunting (1997)\",\"Ghost (1990)\",\"Sn...</td>\n      <td>[\"Crouching Tiger, Hidden Dragon (Wo hu cang l...</td>\n    </tr>\n    <tr>\n      <th>1</th>\n      <td>1</td>\n      <td>The Silence of the Lambs (1991)</td>\n      <td>animated</td>\n      <td>NaN</td>\n      <td>[\"Good Will Hunting (1997)\",\"Pulp Fiction (199...</td>\n      <td>[\"Alien (1979)\",\"E.T. the Extra-Terrestrial (1...</td>\n    </tr>\n    <tr>\n      <th>2</th>\n      <td>1</td>\n      <td>Jurassic Park (1993)</td>\n      <td>artsy</td>\n      <td>[\"Monsters, Inc. (2001)\",\"Home Alone (1990)\",\"...</td>\n      <td>[\"The Sixth Sense (1999)\",\"Alien (1979)\"]</td>\n      <td>[\"The Lion King (1994)\",\"Pulp Fiction (1994)\",...</td>\n    </tr>\n    <tr>\n      <th>3</th>\n      <td>1</td>\n      <td>The Incredibles (2004)</td>\n      <td>believable</td>\n      <td>[\"Monsters, Inc. (2001)\",\"Harry Potter and the...</td>\n      <td>NaN</td>\n      <td>[\"The Silence of the Lambs (1991)\",\"Crouching ...</td>\n    </tr>\n    <tr>\n      <th>4</th>\n      <td>1</td>\n      <td>The Incredibles (2004)</td>\n      <td>big budget</td>\n      <td>[\"The Sixth Sense (1999)\",\"Snow White and the ...</td>\n      <td>[\"Chicken Run (2000)\",\"Schindler's List (1993)...</td>\n      <td>[\"Harry Potter and the Sorcerer's Stone (a.k.a...</td>\n    </tr>\n    <tr>\n      <th>...</th>\n      <td>...</td>\n      <td>...</td>\n      <td>...</td>\n      <td>...</td>\n      <td>...</td>\n      <td>...</td>\n    </tr>\n    <tr>\n      <th>5986</th>\n      <td>100</td>\n      <td>Batman Forever (1995)</td>\n      <td>typical</td>\n      <td>[\"Jaws (1975)\",\"Honey, I Shrunk the Kids (1989...</td>\n      <td>[\"The Terminator (1984)\",\"Kill Bill: Vol. 2 (2...</td>\n      <td>[\"Scream (1996)\",\"The Lost World: Jurassic Par...</td>\n    </tr>\n    <tr>\n      <th>5987</th>\n      <td>100</td>\n      <td>Indiana Jones and the Temple of Doom (1984)</td>\n      <td>unique story</td>\n      <td>[\"Charlie's Angels (2000)\",\"The Dark Knight (2...</td>\n      <td>[\"Armageddon (1998)\",\"Apollo 13 (1995)\",\"Catch...</td>\n      <td>[\"Harry Potter and the Chamber of Secrets (200...</td>\n    </tr>\n    <tr>\n      <th>5988</th>\n      <td>100</td>\n      <td>Armageddon (1998)</td>\n      <td>unrealistic</td>\n      <td>[\"Titanic (1997)\",\"Happy Gilmore (1996)\"]</td>\n      <td>[\"Raiders of the Lost Ark (Indiana Jones and t...</td>\n      <td>[\"Batman (1989)\",\"The Dark Knight (2008)\",\"Men...</td>\n    </tr>\n    <tr>\n      <th>5989</th>\n      <td>100</td>\n      <td>X2: X-Men United (2003)</td>\n      <td>violent</td>\n      <td>[\"Addams Family Values (1993)\",\"Apollo 13 (199...</td>\n      <td>[\"The Bourne Identity (2002)\",\"Mission: Imposs...</td>\n      <td>NaN</td>\n    </tr>\n    <tr>\n      <th>5990</th>\n      <td>100</td>\n      <td>Men in Black (a.k.a. MIB) (1997)</td>\n      <td>well directed</td>\n      <td>[\"Scream (1996)\",\"Sin City (2005)\",\"Finding Ne...</td>\n      <td>[\"The Dark Knight (2008)\",\"The Lord of the Rin...</td>\n      <td>[\"Shrek 2 (2004)\",\"Beverly Hills Cop III (1994...</td>\n    </tr>\n  </tbody>\n</table>\n<p>5991 rows × 6 columns</p>\n</div>"
     },
     "execution_count": 4,
     "metadata": {},
     "output_type": "execute_result"
    }
   ],
   "source": [
    "data"
   ],
   "metadata": {
    "collapsed": false,
    "ExecuteTime": {
     "end_time": "2024-08-30T23:30:54.959622900Z",
     "start_time": "2024-08-30T23:30:54.892292900Z"
    }
   },
   "id": "6f5682c8e6800791"
  },
  {
   "cell_type": "code",
   "execution_count": 6,
   "outputs": [
    {
     "name": "stdout",
     "output_type": "stream",
     "text": [
      "      rater_id                              reference_title soft_attribute  \\\n",
      "0            1                          Forrest Gump (1994)  action filled   \n",
      "1            1              The Silence of the Lambs (1991)       animated   \n",
      "2            1                         Jurassic Park (1993)          artsy   \n",
      "3            1                       The Incredibles (2004)     believable   \n",
      "4            1                       The Incredibles (2004)     big budget   \n",
      "...        ...                                          ...            ...   \n",
      "5986       100                        Batman Forever (1995)        typical   \n",
      "5987       100  Indiana Jones and the Temple of Doom (1984)   unique story   \n",
      "5988       100                            Armageddon (1998)    unrealistic   \n",
      "5989       100                      X2: X-Men United (2003)        violent   \n",
      "5990       100             Men in Black (a.k.a. MIB) (1997)  well directed   \n",
      "\n",
      "                                              less_than  \\\n",
      "0                                                   NaN   \n",
      "1                                                   NaN   \n",
      "2     [\"Monsters, Inc. (2001)\",\"Home Alone (1990)\",\"...   \n",
      "3     [\"Monsters, Inc. (2001)\",\"Harry Potter and the...   \n",
      "4     [\"The Sixth Sense (1999)\",\"Snow White and the ...   \n",
      "...                                                 ...   \n",
      "5986  [\"Jaws (1975)\",\"Honey, I Shrunk the Kids (1989...   \n",
      "5987  [\"Charlie's Angels (2000)\",\"The Dark Knight (2...   \n",
      "5988          [\"Titanic (1997)\",\"Happy Gilmore (1996)\"]   \n",
      "5989  [\"Addams Family Values (1993)\",\"Apollo 13 (199...   \n",
      "5990  [\"Scream (1996)\",\"Sin City (2005)\",\"Finding Ne...   \n",
      "\n",
      "                                               about_as  \\\n",
      "0     [\"Good Will Hunting (1997)\",\"Ghost (1990)\",\"Sn...   \n",
      "1     [\"Good Will Hunting (1997)\",\"Pulp Fiction (199...   \n",
      "2             [\"The Sixth Sense (1999)\",\"Alien (1979)\"]   \n",
      "3                                                   NaN   \n",
      "4     [\"Chicken Run (2000)\",\"Schindler's List (1993)...   \n",
      "...                                                 ...   \n",
      "5986  [\"The Terminator (1984)\",\"Kill Bill: Vol. 2 (2...   \n",
      "5987  [\"Armageddon (1998)\",\"Apollo 13 (1995)\",\"Catch...   \n",
      "5988  [\"Raiders of the Lost Ark (Indiana Jones and t...   \n",
      "5989  [\"The Bourne Identity (2002)\",\"Mission: Imposs...   \n",
      "5990  [\"The Dark Knight (2008)\",\"The Lord of the Rin...   \n",
      "\n",
      "                                              more_than  \n",
      "0     [\"Crouching Tiger, Hidden Dragon (Wo hu cang l...  \n",
      "1     [\"Alien (1979)\",\"E.T. the Extra-Terrestrial (1...  \n",
      "2     [\"The Lion King (1994)\",\"Pulp Fiction (1994)\",...  \n",
      "3     [\"The Silence of the Lambs (1991)\",\"Crouching ...  \n",
      "4     [\"Harry Potter and the Sorcerer's Stone (a.k.a...  \n",
      "...                                                 ...  \n",
      "5986  [\"Scream (1996)\",\"The Lost World: Jurassic Par...  \n",
      "5987  [\"Harry Potter and the Chamber of Secrets (200...  \n",
      "5988  [\"Batman (1989)\",\"The Dark Knight (2008)\",\"Men...  \n",
      "5989                                                NaN  \n",
      "5990  [\"Shrek 2 (2004)\",\"Beverly Hills Cop III (1994...  \n",
      "\n",
      "[5991 rows x 6 columns]\n"
     ]
    }
   ],
   "source": [
    "print(data)"
   ],
   "metadata": {
    "collapsed": false,
    "ExecuteTime": {
     "end_time": "2024-08-30T23:31:51.839680600Z",
     "start_time": "2024-08-30T23:31:51.815025Z"
    }
   },
   "id": "6e0526c479445818"
  },
  {
   "cell_type": "code",
   "execution_count": 34,
   "outputs": [
    {
     "data": {
      "text/plain": "0       1994\n1       1991\n2       1993\n3       2004\n4       2004\n        ... \n5986    1995\n5987    1984\n5988    1998\n5989    2003\n5990    1997\nName: reference_title, Length: 5991, dtype: object"
     },
     "execution_count": 34,
     "metadata": {},
     "output_type": "execute_result"
    }
   ],
   "source": [
    "data['reference_title'].str[-5:-1]"
   ],
   "metadata": {
    "collapsed": false,
    "ExecuteTime": {
     "end_time": "2024-08-30T23:39:05.447908900Z",
     "start_time": "2024-08-30T23:39:05.429469Z"
    }
   },
   "id": "3306dda95e390b31"
  },
  {
   "cell_type": "code",
   "execution_count": 43,
   "outputs": [],
   "source": [
    "data['year'] = data['reference_title'].str[-5:-1]"
   ],
   "metadata": {
    "collapsed": false,
    "ExecuteTime": {
     "end_time": "2024-08-31T01:54:54.955221800Z",
     "start_time": "2024-08-31T01:54:54.947079400Z"
    }
   },
   "id": "6d1890caceb4066b"
  },
  {
   "cell_type": "code",
   "execution_count": 44,
   "outputs": [],
   "source": [
    "data['reference_title'] = data['reference_title'].str[:-7]"
   ],
   "metadata": {
    "collapsed": false,
    "ExecuteTime": {
     "end_time": "2024-08-31T01:54:55.538538100Z",
     "start_time": "2024-08-31T01:54:55.523930Z"
    }
   },
   "id": "a2a4af1f4bdb74b4"
  },
  {
   "cell_type": "code",
   "execution_count": 45,
   "outputs": [],
   "source": [
    "data['reference_title'] = data['reference_title'].str.lower()"
   ],
   "metadata": {
    "collapsed": false,
    "ExecuteTime": {
     "end_time": "2024-08-31T01:54:56.057018100Z",
     "start_time": "2024-08-31T01:54:56.049510200Z"
    }
   },
   "id": "379b6e4159d5bda6"
  },
  {
   "cell_type": "code",
   "execution_count": 46,
   "outputs": [
    {
     "data": {
      "text/plain": "      rater_id                       reference_title soft_attribute  \\\n0            1                          forrest gump  action filled   \n1            1              the silence of the lambs       animated   \n2            1                         jurassic park          artsy   \n3            1                       the incredibles     believable   \n4            1                       the incredibles     big budget   \n...        ...                                   ...            ...   \n5986       100                        batman forever        typical   \n5987       100  indiana jones and the temple of doom   unique story   \n5988       100                            armageddon    unrealistic   \n5989       100                      x2: x-men united        violent   \n5990       100             men in black (a.k.a. mib)  well directed   \n\n                                              less_than  \\\n0                                                   NaN   \n1                                                   NaN   \n2     [\"Monsters, Inc. (2001)\",\"Home Alone (1990)\",\"...   \n3     [\"Monsters, Inc. (2001)\",\"Harry Potter and the...   \n4     [\"The Sixth Sense (1999)\",\"Snow White and the ...   \n...                                                 ...   \n5986  [\"Jaws (1975)\",\"Honey, I Shrunk the Kids (1989...   \n5987  [\"Charlie's Angels (2000)\",\"The Dark Knight (2...   \n5988          [\"Titanic (1997)\",\"Happy Gilmore (1996)\"]   \n5989  [\"Addams Family Values (1993)\",\"Apollo 13 (199...   \n5990  [\"Scream (1996)\",\"Sin City (2005)\",\"Finding Ne...   \n\n                                               about_as  \\\n0     [\"Good Will Hunting (1997)\",\"Ghost (1990)\",\"Sn...   \n1     [\"Good Will Hunting (1997)\",\"Pulp Fiction (199...   \n2             [\"The Sixth Sense (1999)\",\"Alien (1979)\"]   \n3                                                   NaN   \n4     [\"Chicken Run (2000)\",\"Schindler's List (1993)...   \n...                                                 ...   \n5986  [\"The Terminator (1984)\",\"Kill Bill: Vol. 2 (2...   \n5987  [\"Armageddon (1998)\",\"Apollo 13 (1995)\",\"Catch...   \n5988  [\"Raiders of the Lost Ark (Indiana Jones and t...   \n5989  [\"The Bourne Identity (2002)\",\"Mission: Imposs...   \n5990  [\"The Dark Knight (2008)\",\"The Lord of the Rin...   \n\n                                              more_than  year  \n0     [\"Crouching Tiger, Hidden Dragon (Wo hu cang l...  1994  \n1     [\"Alien (1979)\",\"E.T. the Extra-Terrestrial (1...  1991  \n2     [\"The Lion King (1994)\",\"Pulp Fiction (1994)\",...  1993  \n3     [\"The Silence of the Lambs (1991)\",\"Crouching ...  2004  \n4     [\"Harry Potter and the Sorcerer's Stone (a.k.a...  2004  \n...                                                 ...   ...  \n5986  [\"Scream (1996)\",\"The Lost World: Jurassic Par...  1995  \n5987  [\"Harry Potter and the Chamber of Secrets (200...  1984  \n5988  [\"Batman (1989)\",\"The Dark Knight (2008)\",\"Men...  1998  \n5989                                                NaN  2003  \n5990  [\"Shrek 2 (2004)\",\"Beverly Hills Cop III (1994...  1997  \n\n[5991 rows x 7 columns]",
      "text/html": "<div>\n<style scoped>\n    .dataframe tbody tr th:only-of-type {\n        vertical-align: middle;\n    }\n\n    .dataframe tbody tr th {\n        vertical-align: top;\n    }\n\n    .dataframe thead th {\n        text-align: right;\n    }\n</style>\n<table border=\"1\" class=\"dataframe\">\n  <thead>\n    <tr style=\"text-align: right;\">\n      <th></th>\n      <th>rater_id</th>\n      <th>reference_title</th>\n      <th>soft_attribute</th>\n      <th>less_than</th>\n      <th>about_as</th>\n      <th>more_than</th>\n      <th>year</th>\n    </tr>\n  </thead>\n  <tbody>\n    <tr>\n      <th>0</th>\n      <td>1</td>\n      <td>forrest gump</td>\n      <td>action filled</td>\n      <td>NaN</td>\n      <td>[\"Good Will Hunting (1997)\",\"Ghost (1990)\",\"Sn...</td>\n      <td>[\"Crouching Tiger, Hidden Dragon (Wo hu cang l...</td>\n      <td>1994</td>\n    </tr>\n    <tr>\n      <th>1</th>\n      <td>1</td>\n      <td>the silence of the lambs</td>\n      <td>animated</td>\n      <td>NaN</td>\n      <td>[\"Good Will Hunting (1997)\",\"Pulp Fiction (199...</td>\n      <td>[\"Alien (1979)\",\"E.T. the Extra-Terrestrial (1...</td>\n      <td>1991</td>\n    </tr>\n    <tr>\n      <th>2</th>\n      <td>1</td>\n      <td>jurassic park</td>\n      <td>artsy</td>\n      <td>[\"Monsters, Inc. (2001)\",\"Home Alone (1990)\",\"...</td>\n      <td>[\"The Sixth Sense (1999)\",\"Alien (1979)\"]</td>\n      <td>[\"The Lion King (1994)\",\"Pulp Fiction (1994)\",...</td>\n      <td>1993</td>\n    </tr>\n    <tr>\n      <th>3</th>\n      <td>1</td>\n      <td>the incredibles</td>\n      <td>believable</td>\n      <td>[\"Monsters, Inc. (2001)\",\"Harry Potter and the...</td>\n      <td>NaN</td>\n      <td>[\"The Silence of the Lambs (1991)\",\"Crouching ...</td>\n      <td>2004</td>\n    </tr>\n    <tr>\n      <th>4</th>\n      <td>1</td>\n      <td>the incredibles</td>\n      <td>big budget</td>\n      <td>[\"The Sixth Sense (1999)\",\"Snow White and the ...</td>\n      <td>[\"Chicken Run (2000)\",\"Schindler's List (1993)...</td>\n      <td>[\"Harry Potter and the Sorcerer's Stone (a.k.a...</td>\n      <td>2004</td>\n    </tr>\n    <tr>\n      <th>...</th>\n      <td>...</td>\n      <td>...</td>\n      <td>...</td>\n      <td>...</td>\n      <td>...</td>\n      <td>...</td>\n      <td>...</td>\n    </tr>\n    <tr>\n      <th>5986</th>\n      <td>100</td>\n      <td>batman forever</td>\n      <td>typical</td>\n      <td>[\"Jaws (1975)\",\"Honey, I Shrunk the Kids (1989...</td>\n      <td>[\"The Terminator (1984)\",\"Kill Bill: Vol. 2 (2...</td>\n      <td>[\"Scream (1996)\",\"The Lost World: Jurassic Par...</td>\n      <td>1995</td>\n    </tr>\n    <tr>\n      <th>5987</th>\n      <td>100</td>\n      <td>indiana jones and the temple of doom</td>\n      <td>unique story</td>\n      <td>[\"Charlie's Angels (2000)\",\"The Dark Knight (2...</td>\n      <td>[\"Armageddon (1998)\",\"Apollo 13 (1995)\",\"Catch...</td>\n      <td>[\"Harry Potter and the Chamber of Secrets (200...</td>\n      <td>1984</td>\n    </tr>\n    <tr>\n      <th>5988</th>\n      <td>100</td>\n      <td>armageddon</td>\n      <td>unrealistic</td>\n      <td>[\"Titanic (1997)\",\"Happy Gilmore (1996)\"]</td>\n      <td>[\"Raiders of the Lost Ark (Indiana Jones and t...</td>\n      <td>[\"Batman (1989)\",\"The Dark Knight (2008)\",\"Men...</td>\n      <td>1998</td>\n    </tr>\n    <tr>\n      <th>5989</th>\n      <td>100</td>\n      <td>x2: x-men united</td>\n      <td>violent</td>\n      <td>[\"Addams Family Values (1993)\",\"Apollo 13 (199...</td>\n      <td>[\"The Bourne Identity (2002)\",\"Mission: Imposs...</td>\n      <td>NaN</td>\n      <td>2003</td>\n    </tr>\n    <tr>\n      <th>5990</th>\n      <td>100</td>\n      <td>men in black (a.k.a. mib)</td>\n      <td>well directed</td>\n      <td>[\"Scream (1996)\",\"Sin City (2005)\",\"Finding Ne...</td>\n      <td>[\"The Dark Knight (2008)\",\"The Lord of the Rin...</td>\n      <td>[\"Shrek 2 (2004)\",\"Beverly Hills Cop III (1994...</td>\n      <td>1997</td>\n    </tr>\n  </tbody>\n</table>\n<p>5991 rows × 7 columns</p>\n</div>"
     },
     "execution_count": 46,
     "metadata": {},
     "output_type": "execute_result"
    }
   ],
   "source": [
    "data"
   ],
   "metadata": {
    "collapsed": false,
    "ExecuteTime": {
     "end_time": "2024-08-31T01:54:57.016556800Z",
     "start_time": "2024-08-31T01:54:57.003641400Z"
    }
   },
   "id": "53bc5a4b1714f6c0"
  },
  {
   "cell_type": "code",
   "execution_count": 52,
   "outputs": [],
   "source": [
    "forestg = data[data['reference_title'] == 'forrest gump']"
   ],
   "metadata": {
    "collapsed": false,
    "ExecuteTime": {
     "end_time": "2024-08-31T01:59:33.607448700Z",
     "start_time": "2024-08-31T01:59:33.595644Z"
    }
   },
   "id": "93413c3e5c0c5dc3"
  },
  {
   "cell_type": "code",
   "execution_count": 55,
   "outputs": [
    {
     "data": {
      "text/plain": "      rater_id reference_title    soft_attribute  \\\n0            1    forrest gump     action filled   \n9            1    forrest gump            cheesy   \n24           1    forrest gump              gory   \n31           1    forrest gump    juvenile humor   \n34           1    forrest gump        mainstream   \n...        ...             ...               ...   \n5401        91    forrest gump       complicated   \n5493        92    forrest gump         pointless   \n5837        98    forrest gump         heartfelt   \n5864        98    forrest gump  tongue and cheek   \n5913        99    forrest gump         pointless   \n\n                                              less_than  \\\n0                                                   NaN   \n9     [\"Schindler's List (1993)\",\"The Sixth Sense (1...   \n24    [\"E.T. the Extra-Terrestrial (1982)\",\"Toy Stor...   \n31    [\"Ghost (1990)\",\"The Silence of the Lambs (199...   \n34    [\"Toy Story 2 (1999)\",\"E.T. the Extra-Terrestr...   \n...                                                 ...   \n5401  [\"Clueless (1995)\",\"Austin Powers: Internation...   \n5493  [\"The Godfather (1972)\",\"Goodfellas (1990)\",\"I...   \n5837  [\"Aliens (1986)\",\"The Blair Witch Project (199...   \n5864  [\"Toy Story (1995)\",\"Beauty and the Beast (199...   \n5913  [\"Kill Bill: Vol. 1 (2003)\",\"The Rock (1996)\",...   \n\n                                               about_as  \\\n0     [\"Good Will Hunting (1997)\",\"Ghost (1990)\",\"Sn...   \n9     [\"Crouching Tiger, Hidden Dragon (Wo hu cang l...   \n24                                     [\"Ghost (1990)\"]   \n31    [\"Chicken Run (2000)\",\"Home Alone (1990)\",\"The...   \n34    [\"Pulp Fiction (1994)\",\"Crouching Tiger, Hidde...   \n...                                                 ...   \n5401                                                NaN   \n5493  [\"Star Trek: Generations (1994)\",\"Species (199...   \n5837  [\"Beautiful Mind, A (2001)\",\"Few Good Men, A (...   \n5864        [\"Armageddon (1998)\",\"The Fugitive (1993)\"]   \n5913  [\"Mary Poppins (1964)\",\"Office Space (1999)\",\"...   \n\n                                              more_than  year  \n0     [\"Crouching Tiger, Hidden Dragon (Wo hu cang l...  1994  \n9                                                   NaN  1994  \n24    [\"The Sixth Sense (1999)\",\"Spider-Man (2002)\",...  1994  \n31                                                  NaN  1994  \n34                                                  NaN  1994  \n...                                                 ...   ...  \n5401                                                NaN  1994  \n5493  [\"Edward Scissorhands (1990)\",\"Judge Dredd (19...  1994  \n5837  [\"Legends of the Fall (1994)\",\"Stand by Me (19...  1994  \n5864  [\"Chasing Amy (1997)\",\"Sin City (2005)\",\"Ameri...  1994  \n5913                           [\"Bug's Life, A (1998)\"]  1994  \n\n[73 rows x 7 columns]",
      "text/html": "<div>\n<style scoped>\n    .dataframe tbody tr th:only-of-type {\n        vertical-align: middle;\n    }\n\n    .dataframe tbody tr th {\n        vertical-align: top;\n    }\n\n    .dataframe thead th {\n        text-align: right;\n    }\n</style>\n<table border=\"1\" class=\"dataframe\">\n  <thead>\n    <tr style=\"text-align: right;\">\n      <th></th>\n      <th>rater_id</th>\n      <th>reference_title</th>\n      <th>soft_attribute</th>\n      <th>less_than</th>\n      <th>about_as</th>\n      <th>more_than</th>\n      <th>year</th>\n    </tr>\n  </thead>\n  <tbody>\n    <tr>\n      <th>0</th>\n      <td>1</td>\n      <td>forrest gump</td>\n      <td>action filled</td>\n      <td>NaN</td>\n      <td>[\"Good Will Hunting (1997)\",\"Ghost (1990)\",\"Sn...</td>\n      <td>[\"Crouching Tiger, Hidden Dragon (Wo hu cang l...</td>\n      <td>1994</td>\n    </tr>\n    <tr>\n      <th>9</th>\n      <td>1</td>\n      <td>forrest gump</td>\n      <td>cheesy</td>\n      <td>[\"Schindler's List (1993)\",\"The Sixth Sense (1...</td>\n      <td>[\"Crouching Tiger, Hidden Dragon (Wo hu cang l...</td>\n      <td>NaN</td>\n      <td>1994</td>\n    </tr>\n    <tr>\n      <th>24</th>\n      <td>1</td>\n      <td>forrest gump</td>\n      <td>gory</td>\n      <td>[\"E.T. the Extra-Terrestrial (1982)\",\"Toy Stor...</td>\n      <td>[\"Ghost (1990)\"]</td>\n      <td>[\"The Sixth Sense (1999)\",\"Spider-Man (2002)\",...</td>\n      <td>1994</td>\n    </tr>\n    <tr>\n      <th>31</th>\n      <td>1</td>\n      <td>forrest gump</td>\n      <td>juvenile humor</td>\n      <td>[\"Ghost (1990)\",\"The Silence of the Lambs (199...</td>\n      <td>[\"Chicken Run (2000)\",\"Home Alone (1990)\",\"The...</td>\n      <td>NaN</td>\n      <td>1994</td>\n    </tr>\n    <tr>\n      <th>34</th>\n      <td>1</td>\n      <td>forrest gump</td>\n      <td>mainstream</td>\n      <td>[\"Toy Story 2 (1999)\",\"E.T. the Extra-Terrestr...</td>\n      <td>[\"Pulp Fiction (1994)\",\"Crouching Tiger, Hidde...</td>\n      <td>NaN</td>\n      <td>1994</td>\n    </tr>\n    <tr>\n      <th>...</th>\n      <td>...</td>\n      <td>...</td>\n      <td>...</td>\n      <td>...</td>\n      <td>...</td>\n      <td>...</td>\n      <td>...</td>\n    </tr>\n    <tr>\n      <th>5401</th>\n      <td>91</td>\n      <td>forrest gump</td>\n      <td>complicated</td>\n      <td>[\"Clueless (1995)\",\"Austin Powers: Internation...</td>\n      <td>NaN</td>\n      <td>NaN</td>\n      <td>1994</td>\n    </tr>\n    <tr>\n      <th>5493</th>\n      <td>92</td>\n      <td>forrest gump</td>\n      <td>pointless</td>\n      <td>[\"The Godfather (1972)\",\"Goodfellas (1990)\",\"I...</td>\n      <td>[\"Star Trek: Generations (1994)\",\"Species (199...</td>\n      <td>[\"Edward Scissorhands (1990)\",\"Judge Dredd (19...</td>\n      <td>1994</td>\n    </tr>\n    <tr>\n      <th>5837</th>\n      <td>98</td>\n      <td>forrest gump</td>\n      <td>heartfelt</td>\n      <td>[\"Aliens (1986)\",\"The Blair Witch Project (199...</td>\n      <td>[\"Beautiful Mind, A (2001)\",\"Few Good Men, A (...</td>\n      <td>[\"Legends of the Fall (1994)\",\"Stand by Me (19...</td>\n      <td>1994</td>\n    </tr>\n    <tr>\n      <th>5864</th>\n      <td>98</td>\n      <td>forrest gump</td>\n      <td>tongue and cheek</td>\n      <td>[\"Toy Story (1995)\",\"Beauty and the Beast (199...</td>\n      <td>[\"Armageddon (1998)\",\"The Fugitive (1993)\"]</td>\n      <td>[\"Chasing Amy (1997)\",\"Sin City (2005)\",\"Ameri...</td>\n      <td>1994</td>\n    </tr>\n    <tr>\n      <th>5913</th>\n      <td>99</td>\n      <td>forrest gump</td>\n      <td>pointless</td>\n      <td>[\"Kill Bill: Vol. 1 (2003)\",\"The Rock (1996)\",...</td>\n      <td>[\"Mary Poppins (1964)\",\"Office Space (1999)\",\"...</td>\n      <td>[\"Bug's Life, A (1998)\"]</td>\n      <td>1994</td>\n    </tr>\n  </tbody>\n</table>\n<p>73 rows × 7 columns</p>\n</div>"
     },
     "execution_count": 55,
     "metadata": {},
     "output_type": "execute_result"
    }
   ],
   "source": [],
   "metadata": {
    "collapsed": false,
    "ExecuteTime": {
     "end_time": "2024-08-31T02:00:25.427949800Z",
     "start_time": "2024-08-31T02:00:25.421262600Z"
    }
   },
   "id": "1582180e0b08adb1"
  },
  {
   "cell_type": "code",
   "execution_count": null,
   "outputs": [],
   "source": [],
   "metadata": {
    "collapsed": false
   },
   "id": "2f2bca41d7dd77f3"
  }
 ],
 "metadata": {
  "kernelspec": {
   "display_name": "Python 3",
   "language": "python",
   "name": "python3"
  },
  "language_info": {
   "codemirror_mode": {
    "name": "ipython",
    "version": 2
   },
   "file_extension": ".py",
   "mimetype": "text/x-python",
   "name": "python",
   "nbconvert_exporter": "python",
   "pygments_lexer": "ipython2",
   "version": "2.7.6"
  }
 },
 "nbformat": 4,
 "nbformat_minor": 5
}
